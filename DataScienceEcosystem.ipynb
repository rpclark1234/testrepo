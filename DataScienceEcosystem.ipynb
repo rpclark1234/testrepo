{
 "cells": [
  {
   "cell_type": "markdown",
   "id": "8af0fe8f-8eda-4257-9264-de071e04901f",
   "metadata": {},
   "source": [
    "# Data Science Tools and Ecosystem"
   ]
  },
  {
   "cell_type": "markdown",
   "id": "69ca1e35-a7d0-4a82-8453-c161c0b24b7b",
   "metadata": {},
   "source": [
    "In this notebook, Data Science Tools and Ecosystem are summarized."
   ]
  },
  {
   "cell_type": "markdown",
   "id": "c8aa2591-9a19-4870-95c8-797cc163c35c",
   "metadata": {},
   "source": [
    "**Objectives:**\n",
    "\n",
    "* List popular languages for Data Science\n",
    "* List commonly used libraries in Data Science\n",
    "* Give examples of using Python to evaluate arithmetic expressions"
   ]
  },
  {
   "cell_type": "markdown",
   "id": "965dbd81-a346-48bb-a806-80f70784a70c",
   "metadata": {},
   "source": [
    "Some of the popular languages that Data Scientists use are:\n",
    "    \n",
    "    1. Python\n",
    "    2. R\n",
    "    3. Java"
   ]
  },
  {
   "cell_type": "markdown",
   "id": "b0044063-6add-4bbc-9f76-bb9d3b1817e8",
   "metadata": {
    "tags": []
   },
   "source": [
    "Some of the commonly used libraries used by Data Scientists include:\n",
    "\n",
    "    1. TensorFlow\n",
    "    2. Pandas\n",
    "    3. SciPy"
   ]
  },
  {
   "cell_type": "markdown",
   "id": "d43f4d1c-87f7-4155-8771-9c84e5c31522",
   "metadata": {},
   "source": [
    "|Data Science Tools|\n",
    "|------------------|\n",
    "|Jupyter Notebook|\n",
    "|Python|\n",
    "|Apache Spark|"
   ]
  },
  {
   "cell_type": "markdown",
   "id": "490a25f2-924c-4a43-acfe-0a97908593f9",
   "metadata": {},
   "source": [
    "### Below are a few examples of evaluating arithmetic expressions in Python"
   ]
  },
  {
   "cell_type": "code",
   "execution_count": 4,
   "id": "c4550185-a5f7-434e-bb42-72758c436a32",
   "metadata": {
    "tags": []
   },
   "outputs": [
    {
     "data": {
      "text/plain": [
       "17"
      ]
     },
     "execution_count": 4,
     "metadata": {},
     "output_type": "execute_result"
    }
   ],
   "source": [
    "# This a simple arithmetic expression to mutiply then add integers\n",
    "\n",
    "(3*4)+5"
   ]
  },
  {
   "cell_type": "code",
   "execution_count": 5,
   "id": "0f259101-ef7b-4d14-97f6-575ad50a079e",
   "metadata": {
    "tags": []
   },
   "outputs": [
    {
     "data": {
      "text/plain": [
       "3.3333333333333335"
      ]
     },
     "execution_count": 5,
     "metadata": {},
     "output_type": "execute_result"
    }
   ],
   "source": [
    "# This will convert 200 minutes to hours by diving by 60\n",
    "\n",
    "200/60"
   ]
  },
  {
   "cell_type": "markdown",
   "id": "047a3556-5c28-4e00-9628-340203c247e2",
   "metadata": {},
   "source": [
    "## Author\n",
    "\n",
    "Richard Clark"
   ]
  },
  {
   "cell_type": "code",
   "execution_count": null,
   "id": "8ee49fc0-96ab-4bb3-8065-5856a69afdf7",
   "metadata": {},
   "outputs": [],
   "source": []
  }
 ],
 "metadata": {
  "kernelspec": {
   "display_name": "Python",
   "language": "python",
   "name": "conda-env-python-py"
  },
  "language_info": {
   "codemirror_mode": {
    "name": "ipython",
    "version": 3
   },
   "file_extension": ".py",
   "mimetype": "text/x-python",
   "name": "python",
   "nbconvert_exporter": "python",
   "pygments_lexer": "ipython3",
   "version": "3.7.12"
  }
 },
 "nbformat": 4,
 "nbformat_minor": 5
}
